{
 "cells": [
  {
   "cell_type": "markdown",
   "id": "580380d7",
   "metadata": {},
   "source": [
    "# modélisation avec ols \"inférances\""
   ]
  },
  {
   "cell_type": "code",
   "execution_count": 2,
   "id": "8096a08a",
   "metadata": {},
   "outputs": [],
   "source": [
    "import pandas as pd\n",
    "import numpy as np\n",
    "import seaborn as sns \n",
    "import matplotlib as plt\n",
    "from matplotlib import pyplot\n",
    "import matplotlib.pyplot as plt\n",
    "%matplotlib inline "
   ]
  },
  {
   "cell_type": "code",
   "execution_count": 3,
   "id": "7a2c6c0c",
   "metadata": {},
   "outputs": [],
   "source": [
    "scaled_df=pd.read_csv(\"C:/Users/Imen/Desktop/projet immobilier/scaled_df.csv\")\n",
    "train_df=pd.read_csv(\"C:/Users/Imen/Desktop/projet immobilier/train_df.csv\")"
   ]
  },
  {
   "cell_type": "code",
   "execution_count": 4,
   "id": "6bd51a14",
   "metadata": {},
   "outputs": [
    {
     "name": "stdout",
     "output_type": "stream",
     "text": [
      "                            OLS Regression Results                            \n",
      "==============================================================================\n",
      "Dep. Variable:     median_house_value   R-squared:                       0.565\n",
      "Model:                            OLS   Adj. R-squared:                  0.564\n",
      "Method:                 Least Squares   F-statistic:                     2140.\n",
      "Date:                Wed, 22 Sep 2021   Prob (F-statistic):               0.00\n",
      "Time:                        14:19:37   Log-Likelihood:                -11595.\n",
      "No. Observations:               11558   AIC:                         2.321e+04\n",
      "Df Residuals:                   11550   BIC:                         2.326e+04\n",
      "Df Model:                           7                                         \n",
      "Covariance Type:            nonrobust                                         \n",
      "======================================================================================\n",
      "                         coef    std err          t      P>|t|      [0.025      0.975]\n",
      "--------------------------------------------------------------------------------------\n",
      "const                  0.0046      0.007      0.635      0.525      -0.010       0.019\n",
      "housing_median_age     0.1964      0.007     29.504      0.000       0.183       0.209\n",
      "total_rooms           -0.4702      0.020    -23.441      0.000      -0.509      -0.431\n",
      "total_bedrooms         0.3247      0.030     10.820      0.000       0.266       0.384\n",
      "population            -0.2708      0.013    -21.185      0.000      -0.296      -0.246\n",
      "households             0.4639      0.030     15.325      0.000       0.405       0.523\n",
      "median_income          0.7967      0.007    108.477      0.000       0.782       0.811\n",
      "ocean_proximity       -0.0056      0.005     -1.191      0.233      -0.015       0.004\n",
      "==============================================================================\n",
      "Omnibus:                     1889.228   Durbin-Watson:                   1.974\n",
      "Prob(Omnibus):                  0.000   Jarque-Bera (JB):             5582.793\n",
      "Skew:                           0.861   Prob(JB):                         0.00\n",
      "Kurtosis:                       5.937   Cond. No.                         12.8\n",
      "==============================================================================\n",
      "\n",
      "Notes:\n",
      "[1] Standard Errors assume that the covariance matrix of the errors is correctly specified.\n"
     ]
    }
   ],
   "source": [
    "#avec les données standardisé\n",
    "x=scaled_df.drop('median_house_value',axis=1)\n",
    "y=scaled_df['median_house_value']\n",
    "import statsmodels.api as sm\n",
    "from statsmodels.sandbox.regression.predstd import wls_prediction_std\n",
    "x1= sm.add_constant(x)\n",
    "model = sm.OLS(y, x1)\n",
    "results = model.fit()\n",
    "# Avec  statsmodel, on a une sortie qui ressemble beaucoup à celle de R\n",
    "print(results.summary())"
   ]
  },
  {
   "cell_type": "code",
   "execution_count": 5,
   "id": "2210c1ae",
   "metadata": {},
   "outputs": [
    {
     "name": "stdout",
     "output_type": "stream",
     "text": [
      "                            OLS Regression Results                            \n",
      "==============================================================================\n",
      "Dep. Variable:     median_house_value   R-squared:                       0.634\n",
      "Model:                            OLS   Adj. R-squared:                  0.634\n",
      "Method:                 Least Squares   F-statistic:                     2223.\n",
      "Date:                Wed, 22 Sep 2021   Prob (F-statistic):               0.00\n",
      "Time:                        14:19:37   Log-Likelihood:            -1.4524e+05\n",
      "No. Observations:               11558   AIC:                         2.905e+05\n",
      "Df Residuals:                   11548   BIC:                         2.906e+05\n",
      "Df Model:                           9                                         \n",
      "Covariance Type:            nonrobust                                         \n",
      "======================================================================================\n",
      "                         coef    std err          t      P>|t|      [0.025      0.975]\n",
      "--------------------------------------------------------------------------------------\n",
      "const              -3.546e+06    8.7e+04    -40.777      0.000   -3.72e+06   -3.38e+06\n",
      "longitude          -4.226e+04    987.018    -42.818      0.000   -4.42e+04   -4.03e+04\n",
      "latitude            -4.18e+04    913.649    -45.754      0.000   -4.36e+04      -4e+04\n",
      "housing_median_age  1034.7491     58.111     17.806      0.000     920.841    1148.657\n",
      "total_rooms          -13.4450      0.992    -13.548      0.000     -15.390     -11.500\n",
      "total_bedrooms        97.5074      7.520     12.966      0.000      82.766     112.249\n",
      "population           -36.1019      1.461    -24.713      0.000     -38.965     -33.238\n",
      "households            66.3056      8.458      7.839      0.000      49.726      82.885\n",
      "median_income       4.122e+04    443.904     92.857      0.000    4.03e+04    4.21e+04\n",
      "ocean_proximity      340.1439    488.183      0.697      0.486    -616.777    1297.065\n",
      "==============================================================================\n",
      "Omnibus:                     2149.686   Durbin-Watson:                   1.973\n",
      "Prob(Omnibus):                  0.000   Jarque-Bera (JB):             6387.209\n",
      "Skew:                           0.971   Prob(JB):                         0.00\n",
      "Kurtosis:                       6.081   Cond. No.                     5.24e+05\n",
      "==============================================================================\n",
      "\n",
      "Notes:\n",
      "[1] Standard Errors assume that the covariance matrix of the errors is correctly specified.\n",
      "[2] The condition number is large, 5.24e+05. This might indicate that there are\n",
      "strong multicollinearity or other numerical problems.\n"
     ]
    }
   ],
   "source": [
    "#avec les données standardisé\n",
    "x=train_df.drop('median_house_value',axis=1)\n",
    "y=train_df['median_house_value']\n",
    "import statsmodels.api as sm\n",
    "from statsmodels.sandbox.regression.predstd import wls_prediction_std\n",
    "x1= sm.add_constant(x)\n",
    "model = sm.OLS(y, x1)\n",
    "results = model.fit()\n",
    "# Avec  statsmodel, on a une sortie qui ressemble beaucoup à celle de R\n",
    "print(results.summary())"
   ]
  }
 ],
 "metadata": {
  "kernelspec": {
   "display_name": "Python 3",
   "language": "python",
   "name": "python3"
  },
  "language_info": {
   "codemirror_mode": {
    "name": "ipython",
    "version": 3
   },
   "file_extension": ".py",
   "mimetype": "text/x-python",
   "name": "python",
   "nbconvert_exporter": "python",
   "pygments_lexer": "ipython3",
   "version": "3.8.8"
  }
 },
 "nbformat": 4,
 "nbformat_minor": 5
}
