{
 "cells": [
  {
   "cell_type": "markdown",
   "id": "ac97b6d0",
   "metadata": {},
   "source": [
    "# modélisation"
   ]
  },
  {
   "cell_type": "code",
   "execution_count": 12,
   "id": "3498f2af",
   "metadata": {},
   "outputs": [],
   "source": [
    "import pandas as pd\n",
    "import numpy as np\n",
    "import seaborn as sns \n",
    "import matplotlib as plt\n",
    "from matplotlib import pyplot\n",
    "import matplotlib.pyplot as plt\n",
    "%matplotlib inline "
   ]
  },
  {
   "cell_type": "code",
   "execution_count": 13,
   "id": "28278c16",
   "metadata": {},
   "outputs": [],
   "source": [
    "scaled_df=pd.read_csv(\"C:/Users/Imen/Desktop/projet immobilier/scaled_df.csv\")\n",
    "train_df=pd.read_csv(\"C:/Users/Imen/Desktop/projet immobilier/train_df.csv\")"
   ]
  },
  {
   "cell_type": "raw",
   "id": "4189c762",
   "metadata": {},
   "source": [
    "1 er essai de ré"
   ]
  }
 ],
 "metadata": {
  "kernelspec": {
   "display_name": "Python 3",
   "language": "python",
   "name": "python3"
  },
  "language_info": {
   "codemirror_mode": {
    "name": "ipython",
    "version": 3
   },
   "file_extension": ".py",
   "mimetype": "text/x-python",
   "name": "python",
   "nbconvert_exporter": "python",
   "pygments_lexer": "ipython3",
   "version": "3.8.8"
  }
 },
 "nbformat": 4,
 "nbformat_minor": 5
}
