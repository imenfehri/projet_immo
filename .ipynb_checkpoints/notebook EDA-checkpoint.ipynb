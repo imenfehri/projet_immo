{
 "cells": [
  {
   "cell_type": "code",
   "execution_count": 1,
   "id": "69733670",
   "metadata": {},
   "outputs": [],
   "source": [
    "import pandas as pd\n",
    "import seaborn as sns "
   ]
  },
  {
   "cell_type": "code",
   "execution_count": 2,
   "id": "ab6716c1",
   "metadata": {},
   "outputs": [
    {
     "data": {
      "text/html": [
       "<div>\n",
       "<style scoped>\n",
       "    .dataframe tbody tr th:only-of-type {\n",
       "        vertical-align: middle;\n",
       "    }\n",
       "\n",
       "    .dataframe tbody tr th {\n",
       "        vertical-align: top;\n",
       "    }\n",
       "\n",
       "    .dataframe thead th {\n",
       "        text-align: right;\n",
       "    }\n",
       "</style>\n",
       "<table border=\"1\" class=\"dataframe\">\n",
       "  <thead>\n",
       "    <tr style=\"text-align: right;\">\n",
       "      <th></th>\n",
       "      <th>Unnamed: 0</th>\n",
       "      <th>longitude</th>\n",
       "      <th>latitude</th>\n",
       "      <th>housing_median_age</th>\n",
       "      <th>total_rooms</th>\n",
       "      <th>total_bedrooms</th>\n",
       "      <th>population</th>\n",
       "      <th>households</th>\n",
       "      <th>median_income</th>\n",
       "      <th>median_house_value</th>\n",
       "      <th>ocean_proximity</th>\n",
       "    </tr>\n",
       "  </thead>\n",
       "  <tbody>\n",
       "    <tr>\n",
       "      <th>0</th>\n",
       "      <td>4712</td>\n",
       "      <td>-118.36</td>\n",
       "      <td>34.06</td>\n",
       "      <td>39.0</td>\n",
       "      <td>2810.0</td>\n",
       "      <td>670.0</td>\n",
       "      <td>1109.0</td>\n",
       "      <td>624.0</td>\n",
       "      <td>3.2500</td>\n",
       "      <td>355000.0</td>\n",
       "      <td>&lt;1H OCEAN</td>\n",
       "    </tr>\n",
       "    <tr>\n",
       "      <th>1</th>\n",
       "      <td>2151</td>\n",
       "      <td>-119.78</td>\n",
       "      <td>36.78</td>\n",
       "      <td>37.0</td>\n",
       "      <td>2185.0</td>\n",
       "      <td>455.0</td>\n",
       "      <td>1143.0</td>\n",
       "      <td>438.0</td>\n",
       "      <td>1.9784</td>\n",
       "      <td>70700.0</td>\n",
       "      <td>INLAND</td>\n",
       "    </tr>\n",
       "    <tr>\n",
       "      <th>2</th>\n",
       "      <td>15927</td>\n",
       "      <td>-122.42</td>\n",
       "      <td>37.73</td>\n",
       "      <td>46.0</td>\n",
       "      <td>1819.0</td>\n",
       "      <td>411.0</td>\n",
       "      <td>1534.0</td>\n",
       "      <td>406.0</td>\n",
       "      <td>4.0132</td>\n",
       "      <td>229400.0</td>\n",
       "      <td>NEAR BAY</td>\n",
       "    </tr>\n",
       "    <tr>\n",
       "      <th>3</th>\n",
       "      <td>82</td>\n",
       "      <td>-122.28</td>\n",
       "      <td>37.81</td>\n",
       "      <td>52.0</td>\n",
       "      <td>340.0</td>\n",
       "      <td>97.0</td>\n",
       "      <td>200.0</td>\n",
       "      <td>87.0</td>\n",
       "      <td>1.5208</td>\n",
       "      <td>112500.0</td>\n",
       "      <td>NEAR BAY</td>\n",
       "    </tr>\n",
       "    <tr>\n",
       "      <th>4</th>\n",
       "      <td>8161</td>\n",
       "      <td>-118.13</td>\n",
       "      <td>33.82</td>\n",
       "      <td>37.0</td>\n",
       "      <td>1530.0</td>\n",
       "      <td>290.0</td>\n",
       "      <td>711.0</td>\n",
       "      <td>283.0</td>\n",
       "      <td>5.1795</td>\n",
       "      <td>225400.0</td>\n",
       "      <td>&lt;1H OCEAN</td>\n",
       "    </tr>\n",
       "    <tr>\n",
       "      <th>...</th>\n",
       "      <td>...</td>\n",
       "      <td>...</td>\n",
       "      <td>...</td>\n",
       "      <td>...</td>\n",
       "      <td>...</td>\n",
       "      <td>...</td>\n",
       "      <td>...</td>\n",
       "      <td>...</td>\n",
       "      <td>...</td>\n",
       "      <td>...</td>\n",
       "      <td>...</td>\n",
       "    </tr>\n",
       "    <tr>\n",
       "      <th>4123</th>\n",
       "      <td>2319</td>\n",
       "      <td>-119.70</td>\n",
       "      <td>36.82</td>\n",
       "      <td>25.0</td>\n",
       "      <td>2379.0</td>\n",
       "      <td>540.0</td>\n",
       "      <td>1482.0</td>\n",
       "      <td>484.0</td>\n",
       "      <td>2.3173</td>\n",
       "      <td>68200.0</td>\n",
       "      <td>INLAND</td>\n",
       "    </tr>\n",
       "    <tr>\n",
       "      <th>4124</th>\n",
       "      <td>5341</td>\n",
       "      <td>-118.44</td>\n",
       "      <td>34.04</td>\n",
       "      <td>49.0</td>\n",
       "      <td>32.0</td>\n",
       "      <td>7.0</td>\n",
       "      <td>14.0</td>\n",
       "      <td>7.0</td>\n",
       "      <td>2.1875</td>\n",
       "      <td>225000.0</td>\n",
       "      <td>&lt;1H OCEAN</td>\n",
       "    </tr>\n",
       "    <tr>\n",
       "      <th>4125</th>\n",
       "      <td>16888</td>\n",
       "      <td>-122.37</td>\n",
       "      <td>37.60</td>\n",
       "      <td>26.0</td>\n",
       "      <td>15.0</td>\n",
       "      <td>3.0</td>\n",
       "      <td>11.0</td>\n",
       "      <td>3.0</td>\n",
       "      <td>5.0480</td>\n",
       "      <td>350000.0</td>\n",
       "      <td>NEAR OCEAN</td>\n",
       "    </tr>\n",
       "    <tr>\n",
       "      <th>4126</th>\n",
       "      <td>6823</td>\n",
       "      <td>-118.10</td>\n",
       "      <td>34.09</td>\n",
       "      <td>42.0</td>\n",
       "      <td>1460.0</td>\n",
       "      <td>289.0</td>\n",
       "      <td>829.0</td>\n",
       "      <td>273.0</td>\n",
       "      <td>4.8750</td>\n",
       "      <td>227300.0</td>\n",
       "      <td>&lt;1H OCEAN</td>\n",
       "    </tr>\n",
       "    <tr>\n",
       "      <th>4127</th>\n",
       "      <td>11878</td>\n",
       "      <td>-117.38</td>\n",
       "      <td>33.99</td>\n",
       "      <td>52.0</td>\n",
       "      <td>1797.0</td>\n",
       "      <td>332.0</td>\n",
       "      <td>905.0</td>\n",
       "      <td>313.0</td>\n",
       "      <td>2.7054</td>\n",
       "      <td>141700.0</td>\n",
       "      <td>INLAND</td>\n",
       "    </tr>\n",
       "  </tbody>\n",
       "</table>\n",
       "<p>4128 rows × 11 columns</p>\n",
       "</div>"
      ],
      "text/plain": [
       "      Unnamed: 0  longitude  latitude  housing_median_age  total_rooms  \\\n",
       "0           4712    -118.36     34.06                39.0       2810.0   \n",
       "1           2151    -119.78     36.78                37.0       2185.0   \n",
       "2          15927    -122.42     37.73                46.0       1819.0   \n",
       "3             82    -122.28     37.81                52.0        340.0   \n",
       "4           8161    -118.13     33.82                37.0       1530.0   \n",
       "...          ...        ...       ...                 ...          ...   \n",
       "4123        2319    -119.70     36.82                25.0       2379.0   \n",
       "4124        5341    -118.44     34.04                49.0         32.0   \n",
       "4125       16888    -122.37     37.60                26.0         15.0   \n",
       "4126        6823    -118.10     34.09                42.0       1460.0   \n",
       "4127       11878    -117.38     33.99                52.0       1797.0   \n",
       "\n",
       "      total_bedrooms  population  households  median_income  \\\n",
       "0              670.0      1109.0       624.0         3.2500   \n",
       "1              455.0      1143.0       438.0         1.9784   \n",
       "2              411.0      1534.0       406.0         4.0132   \n",
       "3               97.0       200.0        87.0         1.5208   \n",
       "4              290.0       711.0       283.0         5.1795   \n",
       "...              ...         ...         ...            ...   \n",
       "4123           540.0      1482.0       484.0         2.3173   \n",
       "4124             7.0        14.0         7.0         2.1875   \n",
       "4125             3.0        11.0         3.0         5.0480   \n",
       "4126           289.0       829.0       273.0         4.8750   \n",
       "4127           332.0       905.0       313.0         2.7054   \n",
       "\n",
       "      median_house_value ocean_proximity  \n",
       "0               355000.0       <1H OCEAN  \n",
       "1                70700.0          INLAND  \n",
       "2               229400.0        NEAR BAY  \n",
       "3               112500.0        NEAR BAY  \n",
       "4               225400.0       <1H OCEAN  \n",
       "...                  ...             ...  \n",
       "4123             68200.0          INLAND  \n",
       "4124            225000.0       <1H OCEAN  \n",
       "4125            350000.0      NEAR OCEAN  \n",
       "4126            227300.0       <1H OCEAN  \n",
       "4127            141700.0          INLAND  \n",
       "\n",
       "[4128 rows x 11 columns]"
      ]
     },
     "execution_count": 2,
     "metadata": {},
     "output_type": "execute_result"
    }
   ],
   "source": [
    "data = pd.read_csv('https://simplonline-v3-prod.s3.eu-west-3.amazonaws.com/media/file/csv/84992110-b006-4860-b0ad-20cc7e093816.csv')\n",
    "data"
   ]
  },
  {
   "cell_type": "markdown",
   "id": "5a8af5e5",
   "metadata": {},
   "source": [
    "# nettoyage de la basse de données"
   ]
  },
  {
   "cell_type": "code",
   "execution_count": 3,
   "id": "d1648974",
   "metadata": {},
   "outputs": [
    {
     "data": {
      "text/plain": [
       "Unnamed: 0             0\n",
       "longitude              0\n",
       "latitude               0\n",
       "housing_median_age     0\n",
       "total_rooms            0\n",
       "total_bedrooms        44\n",
       "population             0\n",
       "households             0\n",
       "median_income          0\n",
       "median_house_value     0\n",
       "ocean_proximity        0\n",
       "dtype: int64"
      ]
     },
     "execution_count": 3,
     "metadata": {},
     "output_type": "execute_result"
    }
   ],
   "source": [
    "# Trying to sum all the missing values with isnull().sum()\n",
    "data.isnull().sum()"
   ]
  },
  {
   "cell_type": "code",
   "execution_count": 4,
   "id": "7833aacb",
   "metadata": {},
   "outputs": [
    {
     "name": "stdout",
     "output_type": "stream",
     "text": [
      "   Unnamed: 0  longitude  latitude  housing_median_age  total_rooms  \\\n",
      "0        4712    -118.36     34.06                39.0       2810.0   \n",
      "1        2151    -119.78     36.78                37.0       2185.0   \n",
      "2       15927    -122.42     37.73                46.0       1819.0   \n",
      "3          82    -122.28     37.81                52.0        340.0   \n",
      "4        8161    -118.13     33.82                37.0       1530.0   \n",
      "\n",
      "   total_bedrooms  population  households  median_income  median_house_value  \\\n",
      "0           670.0      1109.0       624.0         3.2500            355000.0   \n",
      "1           455.0      1143.0       438.0         1.9784             70700.0   \n",
      "2           411.0      1534.0       406.0         4.0132            229400.0   \n",
      "3            97.0       200.0        87.0         1.5208            112500.0   \n",
      "4           290.0       711.0       283.0         5.1795            225400.0   \n",
      "\n",
      "  ocean_proximity  \n",
      "0       <1H OCEAN  \n",
      "1          INLAND  \n",
      "2        NEAR BAY  \n",
      "3        NEAR BAY  \n",
      "4       <1H OCEAN  \n"
     ]
    }
   ],
   "source": [
    "# Afficher les premières lignes\n",
    "print(data.head())"
   ]
  },
  {
   "cell_type": "code",
   "execution_count": 5,
   "id": "9c3de4d9",
   "metadata": {
    "scrolled": true
   },
   "outputs": [
    {
     "name": "stdout",
     "output_type": "stream",
     "text": [
      "0       False\n",
      "1       False\n",
      "2       False\n",
      "3       False\n",
      "4       False\n",
      "        ...  \n",
      "4123    False\n",
      "4124    False\n",
      "4125    False\n",
      "4126    False\n",
      "4127    False\n",
      "Name: total_bedrooms, Length: 4128, dtype: bool\n"
     ]
    }
   ],
   "source": [
    "# Affichage des valeurs nulles\n",
    "print(data['total_bedrooms'].isnull())"
   ]
  },
  {
   "cell_type": "code",
   "execution_count": 6,
   "id": "fee8ccaa",
   "metadata": {},
   "outputs": [
    {
     "name": "stdout",
     "output_type": "stream",
     "text": [
      "True\n"
     ]
    }
   ],
   "source": [
    "print(data.isnull().values.any())"
   ]
  },
  {
   "cell_type": "code",
   "execution_count": 7,
   "id": "ab493c5d",
   "metadata": {},
   "outputs": [],
   "source": [
    "# Remplacer en utilisant la médiane\n",
    "median = data['total_bedrooms'].median()\n",
    "data['total_bedrooms'].fillna(median, inplace=True)"
   ]
  },
  {
   "cell_type": "code",
   "execution_count": 8,
   "id": "5e5c0fdb",
   "metadata": {},
   "outputs": [
    {
     "data": {
      "text/plain": [
       "0"
      ]
     },
     "execution_count": 8,
     "metadata": {},
     "output_type": "execute_result"
    }
   ],
   "source": [
    "#trouver les valeurs manquantes\n",
    "data.duplicated().sum()"
   ]
  },
  {
   "cell_type": "code",
   "execution_count": 9,
   "id": "994b736c",
   "metadata": {
    "scrolled": true
   },
   "outputs": [
    {
     "name": "stderr",
     "output_type": "stream",
     "text": [
      "C:\\Users\\Imen\\anaconda31\\lib\\site-packages\\seaborn\\_decorators.py:36: FutureWarning: Pass the following variable as a keyword arg: x. From version 0.12, the only valid positional argument will be `data`, and passing other arguments without an explicit keyword will result in an error or misinterpretation.\n",
      "  warnings.warn(\n"
     ]
    },
    {
     "data": {
      "text/plain": [
       "<AxesSubplot:xlabel='total_bedrooms'>"
      ]
     },
     "execution_count": 9,
     "metadata": {},
     "output_type": "execute_result"
    },
    {
     "data": {
      "image/png": "[encoded data removed]",
      "text/plain": [
       "<Figure size 432x288 with 1 Axes>"
      ]
     },
     "metadata": {
      "needs_background": "light"
     },
     "output_type": "display_data"
    }
   ],
   "source": [
    "#Valeurs aberrantes /Outliers\n",
    "#On affiche le boxplot associé à la variable\n",
    "sns.boxplot(data['total_bedrooms'])"
   ]
  },
  {
   "cell_type": "code",
   "execution_count": 10,
   "id": "dfcc4aaa",
   "metadata": {},
   "outputs": [
    {
     "ename": "NameError",
     "evalue": "name 'data1' is not defined",
     "output_type": "error",
     "traceback": [
      "\u001b[1;31m---------------------------------------------------------------------------\u001b[0m",
      "\u001b[1;31mNameError\u001b[0m                                 Traceback (most recent call last)",
      "\u001b[1;32m<ipython-input-10-91ab8ac594b9>\u001b[0m in \u001b[0;36m<module>\u001b[1;34m\u001b[0m\n\u001b[0;32m     25\u001b[0m \u001b[0mdata\u001b[0m\u001b[1;33m=\u001b[0m \u001b[0mdata\u001b[0m\u001b[1;33m[\u001b[0m\u001b[0mdata\u001b[0m\u001b[1;33m[\u001b[0m\u001b[1;34m\"total_bedrooms\"\u001b[0m\u001b[1;33m]\u001b[0m\u001b[1;33m<\u001b[0m\u001b[0mborne_sup\u001b[0m\u001b[1;33m]\u001b[0m\u001b[1;33m\u001b[0m\u001b[1;33m\u001b[0m\u001b[0m\n\u001b[0;32m     26\u001b[0m \u001b[0mdata\u001b[0m\u001b[1;33m=\u001b[0m\u001b[0mdata\u001b[0m\u001b[1;33m[\u001b[0m\u001b[0mdata\u001b[0m\u001b[1;33m[\u001b[0m\u001b[1;34m\"total_bedrooms\"\u001b[0m\u001b[1;33m]\u001b[0m\u001b[1;33m>\u001b[0m\u001b[0mborne_inf\u001b[0m\u001b[1;33m]\u001b[0m\u001b[1;33m\u001b[0m\u001b[1;33m\u001b[0m\u001b[0m\n\u001b[1;32m---> 27\u001b[1;33m \u001b[0mprint\u001b[0m\u001b[1;33m(\u001b[0m\u001b[0mdata1\u001b[0m\u001b[1;33m[\u001b[0m\u001b[1;34m'total_bedrooms'\u001b[0m\u001b[1;33m]\u001b[0m\u001b[1;33m)\u001b[0m\u001b[1;33m\u001b[0m\u001b[1;33m\u001b[0m\u001b[0m\n\u001b[0m",
      "\u001b[1;31mNameError\u001b[0m: name 'data1' is not defined"
     ]
    }
   ],
   "source": [
    "#On supprime les valeurs aberrantes\n",
    "\n",
    "#On calcule Q1\n",
    "\n",
    "q1=data[\"total_bedrooms\"].quantile(q=0.25)\n",
    "\n",
    "#On calcule Q3\n",
    "\n",
    "q3=data[\"total_bedrooms\"].quantile(q=0.75)\n",
    "\n",
    "#On calcule l'écart interquartile (IQR)\n",
    "\n",
    "IQR=q3-q1\n",
    "\n",
    "#On calcule la borne inférieure à l'aide du Q1 et de l'écart interquartile\n",
    "\n",
    "borne_inf = q1-1.5*IQR\n",
    "\n",
    "#On calcule la borne supérieure à l'aide du Q3 et de l'écart interquartile\n",
    "\n",
    "borne_sup = q3 +1.5*IQR\n",
    "\n",
    "#On garde les valeurs à l'intérieur de la borne inférieure et supérieure\n",
    "\n",
    "data= data[data[\"total_bedrooms\"]<borne_sup]\n",
    "data=data[data[\"total_bedrooms\"]>borne_inf]\n",
    "print(data1['total_bedrooms'])"
   ]
  },
  {
   "cell_type": "code",
   "execution_count": null,
   "id": "ea7e9bcb",
   "metadata": {},
   "outputs": [],
   "source": [
    "sns.boxplot(data['total_bedrooms'])"
   ]
  },
  {
   "cell_type": "code",
   "execution_count": null,
   "id": "356a2abe",
   "metadata": {},
   "outputs": [],
   "source": [
    "data.drop('Unnamed:0',axis=1,inplace=True)\n"
   ]
  },
  {
   "cell_type": "markdown",
   "id": "94f15a8d",
   "metadata": {},
   "source": [
    "# la Standardisation et la Normalisation"
   ]
  },
  {
   "cell_type": "code",
   "execution_count": null,
   "id": "3def5898",
   "metadata": {},
   "outputs": [],
   "source": [
    "from sklearn.preprocessing import StandardScaler\n",
    "# define standard scaler\n",
    "scaler = StandardScaler()\n",
    "# transform data\n",
    "scaled = scaler.fit_transform(data)\n",
    "data_standard= data.Data(scaled, index=data.index, columns=data.columns)\n",
    "\n"
   ]
  }
 ],
 "metadata": {
  "kernelspec": {
   "display_name": "Python 3",
   "language": "python",
   "name": "python3"
  },
  "language_info": {
   "codemirror_mode": {
    "name": "ipython",
    "version": 3
   },
   "file_extension": ".py",
   "mimetype": "text/x-python",
   "name": "python",
   "nbconvert_exporter": "python",
   "pygments_lexer": "ipython3",
   "version": "3.8.8"
  }
 },
 "nbformat": 4,
 "nbformat_minor": 5
}
