{
 "cells": [
  {
   "cell_type": "markdown",
   "id": "5fdde7e7",
   "metadata": {},
   "source": [
    "# Cette présentation de projet se découpe en 8 parties :\n",
    "1/présentation des données\n",
    "2/preprocessing\n",
    "3/feature engineering\n",
    "4/création du modèle\n",
    "5/retouche manuelle de notre modèle\n",
    "6/mise en production du modèle\n",
    "7/pistes d’amélioration de notre modèle/estimateur immobilier\n",
    "8/conclusion"
   ]
  },
  {
   "cell_type": "markdown",
   "id": "ee551613",
   "metadata": {},
   "source": [
    "# 1/présentation des données\n",
    "on a une base de données qui contient les prix médians des logements pour les districts de Californie issus du recensement de 1990, on 16512 données:\n",
    "\n",
    "1/longitude\n",
    "2/latitude\n",
    "3/housingMedianAge: Âge médian d'une maison dans un pâté de maisons ; un chiffre plus bas correspond à un bâtiment plus récent.\n",
    "4/totalRooms: Nombre total de chambres dans un bloc\n",
    "5/totalBedrooms: Nombre total de chambres dans un bloc\n",
    "6/population: Nombre total de personnes résidant dans un bloc\n",
    "7/households: Nombre total de ménages, c'est-à-dire un groupe de personnes résidant dans une unité d'habitation, pour un bloc\n",
    "8/medianIncome: Revenu médian des ménages dans un bloc de maisons (mesuré en dizaines de milliers de dollars US)\n",
    "9/medianHouseValue: Valeur médiane des maisons pour les ménages d'un bloc (mesurée en dollars US)\n",
    "10/oceanProximity: Situation de la maison par rapport à la mer"
   ]
  },
  {
   "cell_type": "markdown",
   "id": "caf4f111",
   "metadata": {},
   "source": [
    "# objectif\n",
    "la prédiction de la valeurs  médiane des maisons par district ou bloc(median house value)"
   ]
  },
  {
   "cell_type": "code",
   "execution_count": null,
   "id": "cba7702a",
   "metadata": {},
   "outputs": [],
   "source": []
  }
 ],
 "metadata": {
  "kernelspec": {
   "display_name": "Python 3",
   "language": "python",
   "name": "python3"
  },
  "language_info": {
   "codemirror_mode": {
    "name": "ipython",
    "version": 3
   },
   "file_extension": ".py",
   "mimetype": "text/x-python",
   "name": "python",
   "nbconvert_exporter": "python",
   "pygments_lexer": "ipython3",
   "version": "3.8.8"
  }
 },
 "nbformat": 4,
 "nbformat_minor": 5
}
