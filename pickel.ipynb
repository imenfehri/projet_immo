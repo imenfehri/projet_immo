{
 "cells": [
  {
   "cell_type": "code",
   "execution_count": 14,
   "id": "ec514805",
   "metadata": {},
   "outputs": [],
   "source": [
    "import pandas as pd\n",
    "scaled_df=pd.read_csv(\"C:/Users/Imen/Desktop/projet immobilier/scaled_df.csv\")\n",
    "test_scaled_df=pd.read_csv(\"C:/Users/Imen/Desktop/projet immobilier/test_scaled_df.csv\")\n",
    "test_df=pd.read_csv(\"C:/Users/Imen/Desktop/projet immobilier/test_df.csv\")\n"
   ]
  },
  {
   "cell_type": "code",
   "execution_count": 15,
   "id": "bea1ead9",
   "metadata": {},
   "outputs": [],
   "source": [
    "#définir x_train,y_train, x_test,y_test\n",
    "X_train=scaled_df.drop(['median_house_value','ocean_proximity'], axis=1)\n",
    "Y_train=scaled_df['median_house_value']\n",
    "X_test=test_scaled_df.drop(['median_house_value'], axis=1)\n",
    "Y_test=test_scaled_df['median_house_value']"
   ]
  },
  {
   "cell_type": "code",
   "execution_count": 16,
   "id": "a56e73c9",
   "metadata": {},
   "outputs": [
    {
     "data": {
      "text/plain": [
       "0.8434151661668262"
      ]
     },
     "execution_count": 16,
     "metadata": {},
     "output_type": "execute_result"
    }
   ],
   "source": [
    "import pickle\n",
    "my_model = pickle.load(open(\"regressor.pkl\",\"rb\"))\n",
    "\n",
    "my_model.score(X_test, Y_test)"
   ]
  }
 ],
 "metadata": {
  "kernelspec": {
   "display_name": "Python 3",
   "language": "python",
   "name": "python3"
  },
  "language_info": {
   "codemirror_mode": {
    "name": "ipython",
    "version": 3
   },
   "file_extension": ".py",
   "mimetype": "text/x-python",
   "name": "python",
   "nbconvert_exporter": "python",
   "pygments_lexer": "ipython3",
   "version": "3.8.8"
  }
 },
 "nbformat": 4,
 "nbformat_minor": 5
}
