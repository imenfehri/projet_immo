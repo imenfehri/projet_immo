{
 "cells": [
  {
   "cell_type": "markdown",
   "id": "4f6b53f3",
   "metadata": {},
   "source": [
    "# modélisation"
   ]
  },
  {
   "cell_type": "code",
   "execution_count": 1,
   "id": "d6de65a3",
   "metadata": {},
   "outputs": [],
   "source": [
    "import pandas as pd\n",
    "import numpy as np\n",
    "import seaborn as sns \n",
    "import matplotlib as plt\n",
    "from matplotlib import pyplot\n",
    "import matplotlib.pyplot as plt\n",
    "%matplotlib inline "
   ]
  },
  {
   "cell_type": "code",
   "execution_count": 2,
   "id": "25d29277",
   "metadata": {},
   "outputs": [],
   "source": [
    "scaled_df=pd.read_csv(\"C:/Users/Imen/Desktop/projet immobilier/scaled_df.csv\")\n",
    "train_df=pd.read_csv(\"C:/Users/Imen/Desktop/projet immobilier/train_df.csv\")\n",
    "test_df=pd.read_csv(\"C:/Users/Imen/Desktop/projet immobilier/test_df.csv\")\n",
    "test_scaled_df=pd.read_csv(\"C:/Users/Imen/Desktop/projet immobilier/test_scaled_df.csv\")"
   ]
  },
  {
   "cell_type": "code",
   "execution_count": 3,
   "id": "ba467eb4",
   "metadata": {},
   "outputs": [
    {
     "data": {
      "text/html": [
       "<div>\n",
       "<style scoped>\n",
       "    .dataframe tbody tr th:only-of-type {\n",
       "        vertical-align: middle;\n",
       "    }\n",
       "\n",
       "    .dataframe tbody tr th {\n",
       "        vertical-align: top;\n",
       "    }\n",
       "\n",
       "    .dataframe thead th {\n",
       "        text-align: right;\n",
       "    }\n",
       "</style>\n",
       "<table border=\"1\" class=\"dataframe\">\n",
       "  <thead>\n",
       "    <tr style=\"text-align: right;\">\n",
       "      <th></th>\n",
       "      <th>housing_median_age</th>\n",
       "      <th>total_rooms</th>\n",
       "      <th>total_bedrooms</th>\n",
       "      <th>population</th>\n",
       "      <th>households</th>\n",
       "      <th>median_income</th>\n",
       "      <th>median_house_value</th>\n",
       "      <th>ocean_proximity</th>\n",
       "    </tr>\n",
       "  </thead>\n",
       "  <tbody>\n",
       "    <tr>\n",
       "      <th>0</th>\n",
       "      <td>0.825666</td>\n",
       "      <td>-0.515089</td>\n",
       "      <td>-0.608996</td>\n",
       "      <td>-0.726655</td>\n",
       "      <td>-0.621558</td>\n",
       "      <td>0.408724</td>\n",
       "      <td>0.111969</td>\n",
       "      <td>0.0</td>\n",
       "    </tr>\n",
       "    <tr>\n",
       "      <th>1</th>\n",
       "      <td>1.223223</td>\n",
       "      <td>-0.394578</td>\n",
       "      <td>-0.485628</td>\n",
       "      <td>-0.608980</td>\n",
       "      <td>-0.496636</td>\n",
       "      <td>0.103359</td>\n",
       "      <td>-0.482785</td>\n",
       "      <td>0.0</td>\n",
       "    </tr>\n",
       "    <tr>\n",
       "      <th>2</th>\n",
       "      <td>-0.605540</td>\n",
       "      <td>0.576784</td>\n",
       "      <td>0.109859</td>\n",
       "      <td>0.139866</td>\n",
       "      <td>0.224271</td>\n",
       "      <td>2.008902</td>\n",
       "      <td>1.137529</td>\n",
       "      <td>1.0</td>\n",
       "    </tr>\n",
       "    <tr>\n",
       "      <th>3</th>\n",
       "      <td>-0.048960</td>\n",
       "      <td>-0.809772</td>\n",
       "      <td>-0.824890</td>\n",
       "      <td>-1.029403</td>\n",
       "      <td>-0.879211</td>\n",
       "      <td>-1.631203</td>\n",
       "      <td>-1.084516</td>\n",
       "      <td>0.0</td>\n",
       "    </tr>\n",
       "    <tr>\n",
       "      <th>4</th>\n",
       "      <td>1.859314</td>\n",
       "      <td>-0.381845</td>\n",
       "      <td>-0.485628</td>\n",
       "      <td>-0.526607</td>\n",
       "      <td>-0.486226</td>\n",
       "      <td>-0.615347</td>\n",
       "      <td>-0.562144</td>\n",
       "      <td>0.0</td>\n",
       "    </tr>\n",
       "    <tr>\n",
       "      <th>...</th>\n",
       "      <td>...</td>\n",
       "      <td>...</td>\n",
       "      <td>...</td>\n",
       "      <td>...</td>\n",
       "      <td>...</td>\n",
       "      <td>...</td>\n",
       "      <td>...</td>\n",
       "      <td>...</td>\n",
       "    </tr>\n",
       "    <tr>\n",
       "      <th>11553</th>\n",
       "      <td>-0.764563</td>\n",
       "      <td>-0.473251</td>\n",
       "      <td>-0.573409</td>\n",
       "      <td>-0.209952</td>\n",
       "      <td>-0.566905</td>\n",
       "      <td>0.013734</td>\n",
       "      <td>-0.917950</td>\n",
       "      <td>0.0</td>\n",
       "    </tr>\n",
       "    <tr>\n",
       "      <th>11554</th>\n",
       "      <td>-1.957235</td>\n",
       "      <td>-0.220406</td>\n",
       "      <td>0.102742</td>\n",
       "      <td>-0.336186</td>\n",
       "      <td>-0.153099</td>\n",
       "      <td>-0.380402</td>\n",
       "      <td>-0.761849</td>\n",
       "      <td>1.0</td>\n",
       "    </tr>\n",
       "    <tr>\n",
       "      <th>11555</th>\n",
       "      <td>-0.207983</td>\n",
       "      <td>0.159316</td>\n",
       "      <td>0.005471</td>\n",
       "      <td>0.570988</td>\n",
       "      <td>0.047297</td>\n",
       "      <td>0.667409</td>\n",
       "      <td>0.060517</td>\n",
       "      <td>1.0</td>\n",
       "    </tr>\n",
       "    <tr>\n",
       "      <th>11556</th>\n",
       "      <td>1.064200</td>\n",
       "      <td>-0.179478</td>\n",
       "      <td>-0.037233</td>\n",
       "      <td>-0.040926</td>\n",
       "      <td>-0.043792</td>\n",
       "      <td>-1.213967</td>\n",
       "      <td>-1.230153</td>\n",
       "      <td>1.0</td>\n",
       "    </tr>\n",
       "    <tr>\n",
       "      <th>11557</th>\n",
       "      <td>1.302734</td>\n",
       "      <td>-0.208128</td>\n",
       "      <td>-0.321928</td>\n",
       "      <td>-0.254882</td>\n",
       "      <td>-0.262406</td>\n",
       "      <td>-0.200032</td>\n",
       "      <td>-0.222907</td>\n",
       "      <td>4.0</td>\n",
       "    </tr>\n",
       "  </tbody>\n",
       "</table>\n",
       "<p>11558 rows × 8 columns</p>\n",
       "</div>"
      ],
      "text/plain": [
       "       housing_median_age  total_rooms  total_bedrooms  population  \\\n",
       "0                0.825666    -0.515089       -0.608996   -0.726655   \n",
       "1                1.223223    -0.394578       -0.485628   -0.608980   \n",
       "2               -0.605540     0.576784        0.109859    0.139866   \n",
       "3               -0.048960    -0.809772       -0.824890   -1.029403   \n",
       "4                1.859314    -0.381845       -0.485628   -0.526607   \n",
       "...                   ...          ...             ...         ...   \n",
       "11553           -0.764563    -0.473251       -0.573409   -0.209952   \n",
       "11554           -1.957235    -0.220406        0.102742   -0.336186   \n",
       "11555           -0.207983     0.159316        0.005471    0.570988   \n",
       "11556            1.064200    -0.179478       -0.037233   -0.040926   \n",
       "11557            1.302734    -0.208128       -0.321928   -0.254882   \n",
       "\n",
       "       households  median_income  median_house_value  ocean_proximity  \n",
       "0       -0.621558       0.408724            0.111969              0.0  \n",
       "1       -0.496636       0.103359           -0.482785              0.0  \n",
       "2        0.224271       2.008902            1.137529              1.0  \n",
       "3       -0.879211      -1.631203           -1.084516              0.0  \n",
       "4       -0.486226      -0.615347           -0.562144              0.0  \n",
       "...           ...            ...                 ...              ...  \n",
       "11553   -0.566905       0.013734           -0.917950              0.0  \n",
       "11554   -0.153099      -0.380402           -0.761849              1.0  \n",
       "11555    0.047297       0.667409            0.060517              1.0  \n",
       "11556   -0.043792      -1.213967           -1.230153              1.0  \n",
       "11557   -0.262406      -0.200032           -0.222907              4.0  \n",
       "\n",
       "[11558 rows x 8 columns]"
      ]
     },
     "execution_count": 3,
     "metadata": {},
     "output_type": "execute_result"
    }
   ],
   "source": [
    "scaled_df"
   ]
  },
  {
   "cell_type": "markdown",
   "id": "2e7e3d1f",
   "metadata": {},
   "source": [
    "# 1 er essai de régression linéaire"
   ]
  },
  {
   "cell_type": "code",
   "execution_count": 4,
   "id": "6ae25a7b",
   "metadata": {},
   "outputs": [],
   "source": [
    "#définir x_train,y_train, x_test,y_test\n",
    "X_train=scaled_df.drop(['median_house_value','ocean_proximity'], axis=1)\n",
    "Y_train=scaled_df['median_house_value']\n",
    "X_test=test_scaled_df.drop(['median_house_value'], axis=1)\n",
    "Y_test=test_scaled_df['median_house_value']"
   ]
  },
  {
   "cell_type": "code",
   "execution_count": 5,
   "id": "068d82ae",
   "metadata": {},
   "outputs": [
    {
     "data": {
      "text/html": [
       "<div>\n",
       "<style scoped>\n",
       "    .dataframe tbody tr th:only-of-type {\n",
       "        vertical-align: middle;\n",
       "    }\n",
       "\n",
       "    .dataframe tbody tr th {\n",
       "        vertical-align: top;\n",
       "    }\n",
       "\n",
       "    .dataframe thead th {\n",
       "        text-align: right;\n",
       "    }\n",
       "</style>\n",
       "<table border=\"1\" class=\"dataframe\">\n",
       "  <thead>\n",
       "    <tr style=\"text-align: right;\">\n",
       "      <th></th>\n",
       "      <th>housing_median_age</th>\n",
       "      <th>total_rooms</th>\n",
       "      <th>total_bedrooms</th>\n",
       "      <th>population</th>\n",
       "      <th>households</th>\n",
       "      <th>median_income</th>\n",
       "    </tr>\n",
       "  </thead>\n",
       "  <tbody>\n",
       "    <tr>\n",
       "      <th>0</th>\n",
       "      <td>0.825666</td>\n",
       "      <td>-0.515089</td>\n",
       "      <td>-0.608996</td>\n",
       "      <td>-0.726655</td>\n",
       "      <td>-0.621558</td>\n",
       "      <td>0.408724</td>\n",
       "    </tr>\n",
       "    <tr>\n",
       "      <th>1</th>\n",
       "      <td>1.223223</td>\n",
       "      <td>-0.394578</td>\n",
       "      <td>-0.485628</td>\n",
       "      <td>-0.608980</td>\n",
       "      <td>-0.496636</td>\n",
       "      <td>0.103359</td>\n",
       "    </tr>\n",
       "    <tr>\n",
       "      <th>2</th>\n",
       "      <td>-0.605540</td>\n",
       "      <td>0.576784</td>\n",
       "      <td>0.109859</td>\n",
       "      <td>0.139866</td>\n",
       "      <td>0.224271</td>\n",
       "      <td>2.008902</td>\n",
       "    </tr>\n",
       "    <tr>\n",
       "      <th>3</th>\n",
       "      <td>-0.048960</td>\n",
       "      <td>-0.809772</td>\n",
       "      <td>-0.824890</td>\n",
       "      <td>-1.029403</td>\n",
       "      <td>-0.879211</td>\n",
       "      <td>-1.631203</td>\n",
       "    </tr>\n",
       "    <tr>\n",
       "      <th>4</th>\n",
       "      <td>1.859314</td>\n",
       "      <td>-0.381845</td>\n",
       "      <td>-0.485628</td>\n",
       "      <td>-0.526607</td>\n",
       "      <td>-0.486226</td>\n",
       "      <td>-0.615347</td>\n",
       "    </tr>\n",
       "    <tr>\n",
       "      <th>...</th>\n",
       "      <td>...</td>\n",
       "      <td>...</td>\n",
       "      <td>...</td>\n",
       "      <td>...</td>\n",
       "      <td>...</td>\n",
       "      <td>...</td>\n",
       "    </tr>\n",
       "    <tr>\n",
       "      <th>11553</th>\n",
       "      <td>-0.764563</td>\n",
       "      <td>-0.473251</td>\n",
       "      <td>-0.573409</td>\n",
       "      <td>-0.209952</td>\n",
       "      <td>-0.566905</td>\n",
       "      <td>0.013734</td>\n",
       "    </tr>\n",
       "    <tr>\n",
       "      <th>11554</th>\n",
       "      <td>-1.957235</td>\n",
       "      <td>-0.220406</td>\n",
       "      <td>0.102742</td>\n",
       "      <td>-0.336186</td>\n",
       "      <td>-0.153099</td>\n",
       "      <td>-0.380402</td>\n",
       "    </tr>\n",
       "    <tr>\n",
       "      <th>11555</th>\n",
       "      <td>-0.207983</td>\n",
       "      <td>0.159316</td>\n",
       "      <td>0.005471</td>\n",
       "      <td>0.570988</td>\n",
       "      <td>0.047297</td>\n",
       "      <td>0.667409</td>\n",
       "    </tr>\n",
       "    <tr>\n",
       "      <th>11556</th>\n",
       "      <td>1.064200</td>\n",
       "      <td>-0.179478</td>\n",
       "      <td>-0.037233</td>\n",
       "      <td>-0.040926</td>\n",
       "      <td>-0.043792</td>\n",
       "      <td>-1.213967</td>\n",
       "    </tr>\n",
       "    <tr>\n",
       "      <th>11557</th>\n",
       "      <td>1.302734</td>\n",
       "      <td>-0.208128</td>\n",
       "      <td>-0.321928</td>\n",
       "      <td>-0.254882</td>\n",
       "      <td>-0.262406</td>\n",
       "      <td>-0.200032</td>\n",
       "    </tr>\n",
       "  </tbody>\n",
       "</table>\n",
       "<p>11558 rows × 6 columns</p>\n",
       "</div>"
      ],
      "text/plain": [
       "       housing_median_age  total_rooms  total_bedrooms  population  \\\n",
       "0                0.825666    -0.515089       -0.608996   -0.726655   \n",
       "1                1.223223    -0.394578       -0.485628   -0.608980   \n",
       "2               -0.605540     0.576784        0.109859    0.139866   \n",
       "3               -0.048960    -0.809772       -0.824890   -1.029403   \n",
       "4                1.859314    -0.381845       -0.485628   -0.526607   \n",
       "...                   ...          ...             ...         ...   \n",
       "11553           -0.764563    -0.473251       -0.573409   -0.209952   \n",
       "11554           -1.957235    -0.220406        0.102742   -0.336186   \n",
       "11555           -0.207983     0.159316        0.005471    0.570988   \n",
       "11556            1.064200    -0.179478       -0.037233   -0.040926   \n",
       "11557            1.302734    -0.208128       -0.321928   -0.254882   \n",
       "\n",
       "       households  median_income  \n",
       "0       -0.621558       0.408724  \n",
       "1       -0.496636       0.103359  \n",
       "2        0.224271       2.008902  \n",
       "3       -0.879211      -1.631203  \n",
       "4       -0.486226      -0.615347  \n",
       "...           ...            ...  \n",
       "11553   -0.566905       0.013734  \n",
       "11554   -0.153099      -0.380402  \n",
       "11555    0.047297       0.667409  \n",
       "11556   -0.043792      -1.213967  \n",
       "11557   -0.262406      -0.200032  \n",
       "\n",
       "[11558 rows x 6 columns]"
      ]
     },
     "execution_count": 5,
     "metadata": {},
     "output_type": "execute_result"
    }
   ],
   "source": [
    "X_train"
   ]
  },
  {
   "cell_type": "code",
   "execution_count": 6,
   "id": "db65aced",
   "metadata": {},
   "outputs": [
    {
     "data": {
      "text/html": [
       "<div>\n",
       "<style scoped>\n",
       "    .dataframe tbody tr th:only-of-type {\n",
       "        vertical-align: middle;\n",
       "    }\n",
       "\n",
       "    .dataframe tbody tr th {\n",
       "        vertical-align: top;\n",
       "    }\n",
       "\n",
       "    .dataframe thead th {\n",
       "        text-align: right;\n",
       "    }\n",
       "</style>\n",
       "<table border=\"1\" class=\"dataframe\">\n",
       "  <thead>\n",
       "    <tr style=\"text-align: right;\">\n",
       "      <th></th>\n",
       "      <th>housing_median_age</th>\n",
       "      <th>total_rooms</th>\n",
       "      <th>total_bedrooms</th>\n",
       "      <th>population</th>\n",
       "      <th>households</th>\n",
       "      <th>median_income</th>\n",
       "    </tr>\n",
       "  </thead>\n",
       "  <tbody>\n",
       "    <tr>\n",
       "      <th>0</th>\n",
       "      <td>-1.945885</td>\n",
       "      <td>0.643383</td>\n",
       "      <td>0.095121</td>\n",
       "      <td>0.637892</td>\n",
       "      <td>0.206080</td>\n",
       "      <td>1.554603</td>\n",
       "    </tr>\n",
       "    <tr>\n",
       "      <th>1</th>\n",
       "      <td>-0.678598</td>\n",
       "      <td>-0.548359</td>\n",
       "      <td>-0.646003</td>\n",
       "      <td>-0.584371</td>\n",
       "      <td>-0.613430</td>\n",
       "      <td>-0.293435</td>\n",
       "    </tr>\n",
       "    <tr>\n",
       "      <th>2</th>\n",
       "      <td>0.826305</td>\n",
       "      <td>0.109894</td>\n",
       "      <td>-0.048398</td>\n",
       "      <td>-0.051837</td>\n",
       "      <td>-0.029174</td>\n",
       "      <td>0.237244</td>\n",
       "    </tr>\n",
       "    <tr>\n",
       "      <th>3</th>\n",
       "      <td>-0.916215</td>\n",
       "      <td>1.124999</td>\n",
       "      <td>0.692725</td>\n",
       "      <td>1.897582</td>\n",
       "      <td>0.818773</td>\n",
       "      <td>1.069899</td>\n",
       "    </tr>\n",
       "    <tr>\n",
       "      <th>4</th>\n",
       "      <td>-0.995420</td>\n",
       "      <td>-0.245169</td>\n",
       "      <td>-0.206034</td>\n",
       "      <td>-0.466743</td>\n",
       "      <td>-0.230819</td>\n",
       "      <td>0.872803</td>\n",
       "    </tr>\n",
       "    <tr>\n",
       "      <th>...</th>\n",
       "      <td>...</td>\n",
       "      <td>...</td>\n",
       "      <td>...</td>\n",
       "      <td>...</td>\n",
       "      <td>...</td>\n",
       "      <td>...</td>\n",
       "    </tr>\n",
       "    <tr>\n",
       "      <th>4949</th>\n",
       "      <td>-0.282571</td>\n",
       "      <td>2.444636</td>\n",
       "      <td>1.709123</td>\n",
       "      <td>2.367025</td>\n",
       "      <td>1.891633</td>\n",
       "      <td>1.171267</td>\n",
       "    </tr>\n",
       "    <tr>\n",
       "      <th>4950</th>\n",
       "      <td>0.430278</td>\n",
       "      <td>-0.283179</td>\n",
       "      <td>-0.297792</td>\n",
       "      <td>0.108565</td>\n",
       "      <td>-0.202382</td>\n",
       "      <td>-0.967413</td>\n",
       "    </tr>\n",
       "    <tr>\n",
       "      <th>4951</th>\n",
       "      <td>-0.520187</td>\n",
       "      <td>-0.057352</td>\n",
       "      <td>-0.130745</td>\n",
       "      <td>-0.123483</td>\n",
       "      <td>-0.098974</td>\n",
       "      <td>-0.895099</td>\n",
       "    </tr>\n",
       "    <tr>\n",
       "      <th>4952</th>\n",
       "      <td>1.697565</td>\n",
       "      <td>-0.836792</td>\n",
       "      <td>-0.808344</td>\n",
       "      <td>-0.848500</td>\n",
       "      <td>-0.861609</td>\n",
       "      <td>-0.872218</td>\n",
       "    </tr>\n",
       "    <tr>\n",
       "      <th>4953</th>\n",
       "      <td>0.588689</td>\n",
       "      <td>-0.397211</td>\n",
       "      <td>-0.521306</td>\n",
       "      <td>-0.520210</td>\n",
       "      <td>-0.520362</td>\n",
       "      <td>0.143911</td>\n",
       "    </tr>\n",
       "  </tbody>\n",
       "</table>\n",
       "<p>4954 rows × 6 columns</p>\n",
       "</div>"
      ],
      "text/plain": [
       "      housing_median_age  total_rooms  total_bedrooms  population  households  \\\n",
       "0              -1.945885     0.643383        0.095121    0.637892    0.206080   \n",
       "1              -0.678598    -0.548359       -0.646003   -0.584371   -0.613430   \n",
       "2               0.826305     0.109894       -0.048398   -0.051837   -0.029174   \n",
       "3              -0.916215     1.124999        0.692725    1.897582    0.818773   \n",
       "4              -0.995420    -0.245169       -0.206034   -0.466743   -0.230819   \n",
       "...                  ...          ...             ...         ...         ...   \n",
       "4949           -0.282571     2.444636        1.709123    2.367025    1.891633   \n",
       "4950            0.430278    -0.283179       -0.297792    0.108565   -0.202382   \n",
       "4951           -0.520187    -0.057352       -0.130745   -0.123483   -0.098974   \n",
       "4952            1.697565    -0.836792       -0.808344   -0.848500   -0.861609   \n",
       "4953            0.588689    -0.397211       -0.521306   -0.520210   -0.520362   \n",
       "\n",
       "      median_income  \n",
       "0          1.554603  \n",
       "1         -0.293435  \n",
       "2          0.237244  \n",
       "3          1.069899  \n",
       "4          0.872803  \n",
       "...             ...  \n",
       "4949       1.171267  \n",
       "4950      -0.967413  \n",
       "4951      -0.895099  \n",
       "4952      -0.872218  \n",
       "4953       0.143911  \n",
       "\n",
       "[4954 rows x 6 columns]"
      ]
     },
     "execution_count": 6,
     "metadata": {},
     "output_type": "execute_result"
    }
   ],
   "source": [
    "X_test"
   ]
  },
  {
   "cell_type": "code",
   "execution_count": 7,
   "id": "0aaee3e9",
   "metadata": {},
   "outputs": [
    {
     "name": "stdout",
     "output_type": "stream",
     "text": [
      "[ 0.1965773  -0.47052163  0.32513    -0.27066942  0.46378848  0.79669987]\n",
      "[ 0.50715547 -0.44552729  0.28450164 ... -0.84338588 -0.40022281\n",
      "  0.14724762]\n"
     ]
    },
    {
     "data": {
      "text/plain": [
       "0.5488558470133748"
      ]
     },
     "execution_count": 7,
     "metadata": {},
     "output_type": "execute_result"
    }
   ],
   "source": [
    "#on test sur la partie train avant la standardisation\n",
    "from sklearn import linear_model\n",
    "#Initialize the linear regression model\n",
    "reg = linear_model.LinearRegression()\n",
    "#Train our model with the training data\n",
    "reg.fit(X_train, Y_train)\n",
    "#Print the coefecients/weights for each feature/column of our model\n",
    "print(reg.coef_)\n",
    "#print our price predictions on our test data\n",
    "y_pred = reg.predict(X_test)\n",
    "print(y_pred)\n",
    "reg.score(X_test,Y_test)"
   ]
  },
  {
   "cell_type": "code",
   "execution_count": 8,
   "id": "d4da9c75",
   "metadata": {},
   "outputs": [
    {
     "data": {
      "text/plain": [
       "0.4474438829879897"
      ]
     },
     "execution_count": 8,
     "metadata": {},
     "output_type": "execute_result"
    }
   ],
   "source": [
    "#MSE\n",
    "from sklearn.metrics import mean_squared_error\n",
    "mean_squared_error(y_pred, Y_test)"
   ]
  },
  {
   "cell_type": "code",
   "execution_count": 9,
   "id": "4d06cc10",
   "metadata": {},
   "outputs": [],
   "source": [
    "#on à utilisé une regression linéaire simple sur la partie entrainement et on à eu 0.63contre la prediction avec les valeur standardiser\n",
    "#ou on à eu une prédiction plus bas sachant qu on a pris la mediane comme y et les rest de la data comme un x"
   ]
  },
  {
   "cell_type": "code",
   "execution_count": 10,
   "id": "f83e4083",
   "metadata": {},
   "outputs": [
    {
     "name": "stdout",
     "output_type": "stream",
     "text": [
      "[-4.22624767e+04 -4.18030331e+04  1.03474909e+03 -1.34450083e+01\n",
      "  9.75074101e+01 -3.61018781e+01  6.63056262e+01  4.12196677e+04\n",
      "  3.40143936e+02]\n",
      "[245515.05018051 250539.52475958 393284.41658961 ... 254171.92314082\n",
      "  92758.72553764 225359.65996522]\n"
     ]
    },
    {
     "data": {
      "text/plain": [
       "0.6340406798371199"
      ]
     },
     "execution_count": 10,
     "metadata": {},
     "output_type": "execute_result"
    }
   ],
   "source": [
    "from sklearn import linear_model\n",
    "#definir x et y\n",
    "x=train_df.drop('median_house_value',axis=1)\n",
    "y=train_df['median_house_value']\n",
    "#instancier modèle\n",
    "#Initialize the linear regression model\n",
    "reg = linear_model.LinearRegression()\n",
    "#Train our model with the training data\n",
    "reg.fit(x,y)\n",
    "#Print the coefecients/weights for each feature/column of our model\n",
    "print(reg.coef_)\n",
    "#print our price predictions on our test data\n",
    "y_pred = reg.predict(x)\n",
    "print(y_pred)\n",
    "reg.score(x,y)"
   ]
  },
  {
   "cell_type": "code",
   "execution_count": 11,
   "id": "c4c15286",
   "metadata": {},
   "outputs": [
    {
     "name": "stdout",
     "output_type": "stream",
     "text": [
      "0.472730657568075\n",
      "[[ 0.28101972]\n",
      " [ 0.07106486]\n",
      " [ 1.38122868]\n",
      " ...\n",
      " [ 0.45887981]\n",
      " [-0.8346681 ]\n",
      " [-0.13753285]]\n"
     ]
    }
   ],
   "source": [
    "from sklearn.linear_model import LinearRegression\n",
    "#on va changer le X\n",
    "x=scaled_df[['median_income']]\n",
    "y=scaled_df[['median_house_value']]\n",
    "#instancier modèle\n",
    "model_linReg = LinearRegression()\n",
    "#entrainement du modèle\n",
    "model_linReg.fit(x, y)\n",
    "#précision du modèle\n",
    "precision = model_linReg.score(x, y)\n",
    "print(precision)\n",
    "#prédiction\n",
    "prediction = model_linReg.predict(x)\n",
    "print(prediction)"
   ]
  },
  {
   "cell_type": "code",
   "execution_count": 12,
   "id": "2d13d556",
   "metadata": {},
   "outputs": [
    {
     "name": "stdout",
     "output_type": "stream",
     "text": [
      "0.47273065756807486\n",
      "[[238384.85583935]\n",
      " [214309.51170178]\n",
      " [364544.87460352]\n",
      " ...\n",
      " [258779.91938285]\n",
      " [110449.89032009]\n",
      " [190389.79085791]]\n"
     ]
    }
   ],
   "source": [
    "from sklearn.linear_model import LinearRegression\n",
    "#on va changer le X\n",
    "x=train_df[['median_income']]\n",
    "y=train_df[['median_house_value']]\n",
    "#instancier modèle\n",
    "model_linReg = LinearRegression()\n",
    "#entrainement du modèle\n",
    "model_linReg.fit(x, y)\n",
    "#précision du modèle\n",
    "precision = model_linReg.score(x, y)\n",
    "print(precision)\n",
    "#prédiction\n",
    "prediction = model_linReg.predict(x)\n",
    "print(prediction)"
   ]
  },
  {
   "cell_type": "code",
   "execution_count": 13,
   "id": "7ee185d9",
   "metadata": {},
   "outputs": [],
   "source": [
    "#on va  tester une régression linéaire simple sur la partie test "
   ]
  },
  {
   "cell_type": "code",
   "execution_count": null,
   "id": "7555254b",
   "metadata": {},
   "outputs": [],
   "source": []
  },
  {
   "cell_type": "markdown",
   "id": "1753ba95",
   "metadata": {},
   "source": [
    "# 2 eme essai de modéle"
   ]
  },
  {
   "cell_type": "code",
   "execution_count": 14,
   "id": "473fb8e0",
   "metadata": {},
   "outputs": [
    {
     "data": {
      "text/plain": [
       "RandomForestRegressor(n_estimators=1000, random_state=42)"
      ]
     },
     "execution_count": 14,
     "metadata": {},
     "output_type": "execute_result"
    }
   ],
   "source": [
    "#random forest\n",
    "from sklearn.ensemble import RandomForestRegressor\n",
    "regressor = RandomForestRegressor(n_estimators = 1000, random_state = 42)\n",
    "regressor.fit(X_train, Y_train)\n"
   ]
  },
  {
   "cell_type": "code",
   "execution_count": 15,
   "id": "b69d1f75",
   "metadata": {},
   "outputs": [
    {
     "data": {
      "text/plain": [
       "array([ 0.72451955, -0.72220707,  0.26843084, ..., -1.15209691,\n",
       "       -0.77463268, -0.18482535])"
      ]
     },
     "execution_count": 15,
     "metadata": {},
     "output_type": "execute_result"
    }
   ],
   "source": [
    "y_pred = regressor.predict(X_test)\n",
    "y_pred"
   ]
  },
  {
   "cell_type": "code",
   "execution_count": 16,
   "id": "d9bd2bc3",
   "metadata": {},
   "outputs": [
    {
     "data": {
      "text/plain": [
       "0.8434151661668262"
      ]
     },
     "execution_count": 16,
     "metadata": {},
     "output_type": "execute_result"
    }
   ],
   "source": [
    "regressor.score(X_test,Y_test)"
   ]
  },
  {
   "cell_type": "code",
   "execution_count": 17,
   "id": "e67f1f3c",
   "metadata": {},
   "outputs": [
    {
     "data": {
      "text/html": [
       "<div>\n",
       "<style scoped>\n",
       "    .dataframe tbody tr th:only-of-type {\n",
       "        vertical-align: middle;\n",
       "    }\n",
       "\n",
       "    .dataframe tbody tr th {\n",
       "        vertical-align: top;\n",
       "    }\n",
       "\n",
       "    .dataframe thead th {\n",
       "        text-align: right;\n",
       "    }\n",
       "</style>\n",
       "<table border=\"1\" class=\"dataframe\">\n",
       "  <thead>\n",
       "    <tr style=\"text-align: right;\">\n",
       "      <th></th>\n",
       "      <th>Actual</th>\n",
       "      <th>Predicted</th>\n",
       "    </tr>\n",
       "  </thead>\n",
       "  <tbody>\n",
       "    <tr>\n",
       "      <th>0</th>\n",
       "      <td>0.687440</td>\n",
       "      <td>0.724520</td>\n",
       "    </tr>\n",
       "    <tr>\n",
       "      <th>1</th>\n",
       "      <td>-0.855528</td>\n",
       "      <td>-0.722207</td>\n",
       "    </tr>\n",
       "    <tr>\n",
       "      <th>2</th>\n",
       "      <td>0.384047</td>\n",
       "      <td>0.268431</td>\n",
       "    </tr>\n",
       "    <tr>\n",
       "      <th>3</th>\n",
       "      <td>0.237552</td>\n",
       "      <td>0.634875</td>\n",
       "    </tr>\n",
       "    <tr>\n",
       "      <th>4</th>\n",
       "      <td>0.148268</td>\n",
       "      <td>0.199896</td>\n",
       "    </tr>\n",
       "    <tr>\n",
       "      <th>...</th>\n",
       "      <td>...</td>\n",
       "      <td>...</td>\n",
       "    </tr>\n",
       "    <tr>\n",
       "      <th>4949</th>\n",
       "      <td>0.501937</td>\n",
       "      <td>0.624656</td>\n",
       "    </tr>\n",
       "    <tr>\n",
       "      <th>4950</th>\n",
       "      <td>-1.223066</td>\n",
       "      <td>-0.881251</td>\n",
       "    </tr>\n",
       "    <tr>\n",
       "      <th>4951</th>\n",
       "      <td>-1.154586</td>\n",
       "      <td>-1.152097</td>\n",
       "    </tr>\n",
       "    <tr>\n",
       "      <th>4952</th>\n",
       "      <td>-1.281144</td>\n",
       "      <td>-0.774633</td>\n",
       "    </tr>\n",
       "    <tr>\n",
       "      <th>4953</th>\n",
       "      <td>-0.297286</td>\n",
       "      <td>-0.184825</td>\n",
       "    </tr>\n",
       "  </tbody>\n",
       "</table>\n",
       "<p>4954 rows × 2 columns</p>\n",
       "</div>"
      ],
      "text/plain": [
       "        Actual  Predicted\n",
       "0     0.687440   0.724520\n",
       "1    -0.855528  -0.722207\n",
       "2     0.384047   0.268431\n",
       "3     0.237552   0.634875\n",
       "4     0.148268   0.199896\n",
       "...        ...        ...\n",
       "4949  0.501937   0.624656\n",
       "4950 -1.223066  -0.881251\n",
       "4951 -1.154586  -1.152097\n",
       "4952 -1.281144  -0.774633\n",
       "4953 -0.297286  -0.184825\n",
       "\n",
       "[4954 rows x 2 columns]"
      ]
     },
     "execution_count": 17,
     "metadata": {},
     "output_type": "execute_result"
    }
   ],
   "source": [
    "df=pd.DataFrame({'Actual':Y_test, 'Predicted':y_pred})\n",
    "df"
   ]
  },
  {
   "cell_type": "code",
   "execution_count": 18,
   "id": "fdf00c0a",
   "metadata": {},
   "outputs": [
    {
     "name": "stdout",
     "output_type": "stream",
     "text": [
      "Mean Absolute Error: 0.2576302449471609\n",
      "Mean Squared Error: 0.15530053000470015\n",
      "Root Mean Squared Error: 0.3940818823603797\n"
     ]
    }
   ],
   "source": [
    "from sklearn import metrics\n",
    "print('Mean Absolute Error:', metrics.mean_absolute_error(Y_test, y_pred))\n",
    "print('Mean Squared Error:', metrics.mean_squared_error(Y_test, y_pred))\n",
    "print('Root Mean Squared Error:', np.sqrt(metrics.mean_squared_error(Y_test, y_pred)))"
   ]
  },
  {
   "cell_type": "code",
   "execution_count": 19,
   "id": "6024646c",
   "metadata": {},
   "outputs": [],
   "source": [
    "import pickle\n",
    "\n",
    "with open(\"regressor.pkl\", \"wb\") as file:\n",
    "    pickle.dump(regressor, file)"
   ]
  },
  {
   "cell_type": "code",
   "execution_count": 20,
   "id": "0a3eba48",
   "metadata": {},
   "outputs": [
    {
     "name": "stdout",
     "output_type": "stream",
     "text": [
      "Mean Absolute Error: 0.26 degrees.\n",
      "Accuracy: 93.81 %.\n"
     ]
    }
   ],
   "source": [
    "# Calculate the absolute errors\n",
    "errors = abs(y_pred - Y_test)\n",
    "# Print out the mean absolute error (mae)\n",
    "print('Mean Absolute Error:', round(np.mean(errors), 2), 'degrees.')\n",
    "\n",
    "# Calculate mean absolute percentage error (MAPE)\n",
    "mape = 100 * (errors / Y_test)\n",
    "# Calculate and display accuracy\n",
    "accuracy = 100 - np.mean(mape)\n",
    "print('Accuracy:', round(accuracy, 2), '%.')\n"
   ]
  },
  {
   "cell_type": "code",
   "execution_count": 21,
   "id": "abd65ef6",
   "metadata": {},
   "outputs": [
    {
     "name": "stderr",
     "output_type": "stream",
     "text": [
      "C:\\Users\\Imen\\anaconda31\\lib\\site-packages\\seaborn\\distributions.py:2557: FutureWarning: `distplot` is a deprecated function and will be removed in a future version. Please adapt your code to use either `displot` (a figure-level function with similar flexibility) or `kdeplot` (an axes-level function for kernel density plots).\n",
      "  warnings.warn(msg, FutureWarning)\n",
      "C:\\Users\\Imen\\anaconda31\\lib\\site-packages\\seaborn\\distributions.py:2557: FutureWarning: `distplot` is a deprecated function and will be removed in a future version. Please adapt your code to use either `displot` (a figure-level function with similar flexibility) or `kdeplot` (an axes-level function for kernel density plots).\n",
      "  warnings.warn(msg, FutureWarning)\n"
     ]
    },
    {
     "data": {
      "image/png": "[encoded data removed]",
      "text/plain": [
       "<Figure size 360x504 with 1 Axes>"
      ]
     },
     "metadata": {
      "needs_background": "light"
     },
     "output_type": "display_data"
    }
   ],
   "source": [
    "import seaborn as sns\n",
    "plt.figure(figsize=(5, 7))\n",
    "\n",
    "\n",
    "ax = sns.distplot(Y_test, hist=False, color=\"r\", label=\"Actual Value\")\n",
    "sns.distplot(y_pred, hist=False, color=\"b\", label=\"Fitted Values\" , ax=ax)\n",
    "\n",
    "\n",
    "plt.title('Actual vs Fitted Values for Price')\n",
    "\n",
    "\n",
    "plt.show()\n",
    "plt.close()"
   ]
  },
  {
   "cell_type": "markdown",
   "id": "d052f3e9",
   "metadata": {},
   "source": [
    "# 3eme modéle"
   ]
  },
  {
   "cell_type": "code",
   "execution_count": 22,
   "id": "47d63ed6",
   "metadata": {},
   "outputs": [
    {
     "data": {
      "text/html": [
       "<div>\n",
       "<style scoped>\n",
       "    .dataframe tbody tr th:only-of-type {\n",
       "        vertical-align: middle;\n",
       "    }\n",
       "\n",
       "    .dataframe tbody tr th {\n",
       "        vertical-align: top;\n",
       "    }\n",
       "\n",
       "    .dataframe thead th {\n",
       "        text-align: right;\n",
       "    }\n",
       "</style>\n",
       "<table border=\"1\" class=\"dataframe\">\n",
       "  <thead>\n",
       "    <tr style=\"text-align: right;\">\n",
       "      <th></th>\n",
       "      <th>longitude</th>\n",
       "      <th>latitude</th>\n",
       "      <th>housing_median_age</th>\n",
       "      <th>total_rooms</th>\n",
       "      <th>total_bedrooms</th>\n",
       "      <th>population</th>\n",
       "      <th>households</th>\n",
       "      <th>median_income</th>\n",
       "      <th>median_house_value</th>\n",
       "      <th>ocean_proximity</th>\n",
       "    </tr>\n",
       "  </thead>\n",
       "  <tbody>\n",
       "    <tr>\n",
       "      <th>0</th>\n",
       "      <td>-118.02</td>\n",
       "      <td>34.11</td>\n",
       "      <td>39.0</td>\n",
       "      <td>1504.0</td>\n",
       "      <td>280.0</td>\n",
       "      <td>718.0</td>\n",
       "      <td>261.0</td>\n",
       "      <td>4.6250</td>\n",
       "      <td>219000.0</td>\n",
       "      <td>1</td>\n",
       "    </tr>\n",
       "    <tr>\n",
       "      <th>1</th>\n",
       "      <td>-122.33</td>\n",
       "      <td>37.94</td>\n",
       "      <td>44.0</td>\n",
       "      <td>1769.0</td>\n",
       "      <td>332.0</td>\n",
       "      <td>828.0</td>\n",
       "      <td>309.0</td>\n",
       "      <td>4.0526</td>\n",
       "      <td>150800.0</td>\n",
       "      <td>3</td>\n",
       "    </tr>\n",
       "    <tr>\n",
       "      <th>2</th>\n",
       "      <td>-121.70</td>\n",
       "      <td>36.55</td>\n",
       "      <td>21.0</td>\n",
       "      <td>3905.0</td>\n",
       "      <td>583.0</td>\n",
       "      <td>1528.0</td>\n",
       "      <td>586.0</td>\n",
       "      <td>7.6245</td>\n",
       "      <td>336600.0</td>\n",
       "      <td>0</td>\n",
       "    </tr>\n",
       "    <tr>\n",
       "      <th>3</th>\n",
       "      <td>-122.19</td>\n",
       "      <td>37.75</td>\n",
       "      <td>28.0</td>\n",
       "      <td>856.0</td>\n",
       "      <td>189.0</td>\n",
       "      <td>435.0</td>\n",
       "      <td>162.0</td>\n",
       "      <td>0.8012</td>\n",
       "      <td>81800.0</td>\n",
       "      <td>3</td>\n",
       "    </tr>\n",
       "    <tr>\n",
       "      <th>4</th>\n",
       "      <td>-117.38</td>\n",
       "      <td>33.99</td>\n",
       "      <td>52.0</td>\n",
       "      <td>1797.0</td>\n",
       "      <td>332.0</td>\n",
       "      <td>905.0</td>\n",
       "      <td>313.0</td>\n",
       "      <td>2.7054</td>\n",
       "      <td>141700.0</td>\n",
       "      <td>1</td>\n",
       "    </tr>\n",
       "    <tr>\n",
       "      <th>...</th>\n",
       "      <td>...</td>\n",
       "      <td>...</td>\n",
       "      <td>...</td>\n",
       "      <td>...</td>\n",
       "      <td>...</td>\n",
       "      <td>...</td>\n",
       "      <td>...</td>\n",
       "      <td>...</td>\n",
       "      <td>...</td>\n",
       "      <td>...</td>\n",
       "    </tr>\n",
       "    <tr>\n",
       "      <th>11553</th>\n",
       "      <td>-116.21</td>\n",
       "      <td>33.66</td>\n",
       "      <td>19.0</td>\n",
       "      <td>1596.0</td>\n",
       "      <td>295.0</td>\n",
       "      <td>1201.0</td>\n",
       "      <td>282.0</td>\n",
       "      <td>3.8846</td>\n",
       "      <td>100900.0</td>\n",
       "      <td>1</td>\n",
       "    </tr>\n",
       "    <tr>\n",
       "      <th>11554</th>\n",
       "      <td>-117.57</td>\n",
       "      <td>34.07</td>\n",
       "      <td>4.0</td>\n",
       "      <td>2152.0</td>\n",
       "      <td>580.0</td>\n",
       "      <td>1083.0</td>\n",
       "      <td>441.0</td>\n",
       "      <td>3.1458</td>\n",
       "      <td>118800.0</td>\n",
       "      <td>1</td>\n",
       "    </tr>\n",
       "    <tr>\n",
       "      <th>11555</th>\n",
       "      <td>-121.81</td>\n",
       "      <td>37.37</td>\n",
       "      <td>26.0</td>\n",
       "      <td>2987.0</td>\n",
       "      <td>539.0</td>\n",
       "      <td>1931.0</td>\n",
       "      <td>518.0</td>\n",
       "      <td>5.1099</td>\n",
       "      <td>213100.0</td>\n",
       "      <td>0</td>\n",
       "    </tr>\n",
       "    <tr>\n",
       "      <th>11556</th>\n",
       "      <td>-119.61</td>\n",
       "      <td>36.57</td>\n",
       "      <td>42.0</td>\n",
       "      <td>2242.0</td>\n",
       "      <td>521.0</td>\n",
       "      <td>1359.0</td>\n",
       "      <td>483.0</td>\n",
       "      <td>1.5833</td>\n",
       "      <td>65100.0</td>\n",
       "      <td>1</td>\n",
       "    </tr>\n",
       "    <tr>\n",
       "      <th>11557</th>\n",
       "      <td>-122.12</td>\n",
       "      <td>37.68</td>\n",
       "      <td>45.0</td>\n",
       "      <td>2179.0</td>\n",
       "      <td>401.0</td>\n",
       "      <td>1159.0</td>\n",
       "      <td>399.0</td>\n",
       "      <td>3.4839</td>\n",
       "      <td>180600.0</td>\n",
       "      <td>3</td>\n",
       "    </tr>\n",
       "  </tbody>\n",
       "</table>\n",
       "<p>11558 rows × 10 columns</p>\n",
       "</div>"
      ],
      "text/plain": [
       "       longitude  latitude  housing_median_age  total_rooms  total_bedrooms  \\\n",
       "0        -118.02     34.11                39.0       1504.0           280.0   \n",
       "1        -122.33     37.94                44.0       1769.0           332.0   \n",
       "2        -121.70     36.55                21.0       3905.0           583.0   \n",
       "3        -122.19     37.75                28.0        856.0           189.0   \n",
       "4        -117.38     33.99                52.0       1797.0           332.0   \n",
       "...          ...       ...                 ...          ...             ...   \n",
       "11553    -116.21     33.66                19.0       1596.0           295.0   \n",
       "11554    -117.57     34.07                 4.0       2152.0           580.0   \n",
       "11555    -121.81     37.37                26.0       2987.0           539.0   \n",
       "11556    -119.61     36.57                42.0       2242.0           521.0   \n",
       "11557    -122.12     37.68                45.0       2179.0           401.0   \n",
       "\n",
       "       population  households  median_income  median_house_value  \\\n",
       "0           718.0       261.0         4.6250            219000.0   \n",
       "1           828.0       309.0         4.0526            150800.0   \n",
       "2          1528.0       586.0         7.6245            336600.0   \n",
       "3           435.0       162.0         0.8012             81800.0   \n",
       "4           905.0       313.0         2.7054            141700.0   \n",
       "...           ...         ...            ...                 ...   \n",
       "11553      1201.0       282.0         3.8846            100900.0   \n",
       "11554      1083.0       441.0         3.1458            118800.0   \n",
       "11555      1931.0       518.0         5.1099            213100.0   \n",
       "11556      1359.0       483.0         1.5833             65100.0   \n",
       "11557      1159.0       399.0         3.4839            180600.0   \n",
       "\n",
       "       ocean_proximity  \n",
       "0                    1  \n",
       "1                    3  \n",
       "2                    0  \n",
       "3                    3  \n",
       "4                    1  \n",
       "...                ...  \n",
       "11553                1  \n",
       "11554                1  \n",
       "11555                0  \n",
       "11556                1  \n",
       "11557                3  \n",
       "\n",
       "[11558 rows x 10 columns]"
      ]
     },
     "execution_count": 22,
     "metadata": {},
     "output_type": "execute_result"
    }
   ],
   "source": [
    "train_df"
   ]
  },
  {
   "cell_type": "code",
   "execution_count": 23,
   "id": "9f0b57c4",
   "metadata": {},
   "outputs": [],
   "source": [
    "from sklearn.preprocessing import StandardScaler\n",
    "features = ['longitude', 'latitude', 'housing_median_age', 'total_rooms','total_bedrooms','population','households','median_income','ocean_proximity']\n",
    "# Separating out the features\n",
    "x = train_df.loc[:, features].values\n",
    "# Separating out the target\n",
    "y = train_df.loc[:,['median_house_value']].values\n",
    "# Standardizing the features\n",
    "x = StandardScaler().fit_transform(X_train)"
   ]
  },
  {
   "cell_type": "code",
   "execution_count": 24,
   "id": "ab79f0ce",
   "metadata": {
    "scrolled": true
   },
   "outputs": [
    {
     "name": "stdout",
     "output_type": "stream",
     "text": [
      "Pourcentage de variance expliquée : \n",
      "[0.6373491  0.17768592 0.13530044 0.03531132 0.01044983]\n",
      "0.9960966193879056\n",
      "Composantes principales : \n",
      "[[-0.2269912   0.48805068  0.49510253  0.4644699   0.49768041  0.04167657]\n",
      " [-0.36808422  0.09482219 -0.11672363 -0.1190751  -0.10925788  0.90320661]\n",
      " [ 0.90056375  0.13369509  0.08626533  0.04973848  0.11519155  0.38461128]\n",
      " [-0.01162489  0.36076099  0.32248898 -0.85962934  0.13061029 -0.09846612]\n",
      " [-0.04033714 -0.77004008  0.36602179 -0.12973702  0.48090284  0.15277434]]\n"
     ]
    }
   ],
   "source": [
    "from sklearn.decomposition import PCA\n",
    "pca = PCA(n_components=5)\n",
    "x_new=pca.fit(X_train)\n",
    "print(\"Pourcentage de variance expliquée : \")\n",
    "print(pca.explained_variance_ratio_)\n",
    "print(pca.explained_variance_ratio_.sum())\n",
    "print(\"Composantes principales : \")\n",
    "print(pca.components_)"
   ]
  },
  {
   "cell_type": "markdown",
   "id": "93360f7e",
   "metadata": {},
   "source": [
    "# Tuning des hyperparamètres"
   ]
  },
  {
   "cell_type": "code",
   "execution_count": 25,
   "id": "49367c63",
   "metadata": {},
   "outputs": [],
   "source": [
    "from sklearn.ensemble import RandomForestClassifier\n",
    "from sklearn.datasets import make_classification\n",
    "from sklearn.model_selection import GridSearchCV"
   ]
  },
  {
   "cell_type": "code",
   "execution_count": 26,
   "id": "064caa10",
   "metadata": {},
   "outputs": [
    {
     "name": "stdout",
     "output_type": "stream",
     "text": [
      "Fitting 5 folds for each of 342 candidates, totalling 1710 fits\n"
     ]
    },
    {
     "data": {
      "text/plain": [
       "GridSearchCV(cv=5, estimator=RandomForestRegressor(random_state=0), n_jobs=-1,\n",
       "             param_grid={'max_features': array([0.1 , 0.15, 0.2 , 0.25, 0.3 , 0.35, 0.4 , 0.45, 0.5 , 0.55, 0.6 ,\n",
       "       0.65, 0.7 , 0.75, 0.8 , 0.85, 0.9 , 0.95]),\n",
       "                         'n_estimators': array([ 5, 10, 15, 20, 25, 30, 35, 40, 45, 50, 55, 60, 65, 70, 75, 80, 85,\n",
       "       90, 95])},\n",
       "             scoring='r2', verbose=1)"
      ]
     },
     "execution_count": 26,
     "metadata": {},
     "output_type": "execute_result"
    }
   ],
   "source": [
    "grid_search = GridSearchCV(RandomForestRegressor(random_state=0),\n",
    "                           {\n",
    "                              'n_estimators':np.arange(5,100,5),\n",
    "                              'max_features':np.arange(0.1,1.0,0.05),\n",
    "                            \n",
    "                            },cv=5, scoring=\"r2\",verbose=1,n_jobs=-1\n",
    "                           )\n",
    "grid_search.fit(X_train,Y_train)"
   ]
  },
  {
   "cell_type": "code",
   "execution_count": 27,
   "id": "d7744a40",
   "metadata": {},
   "outputs": [
    {
     "data": {
      "text/plain": [
       "{'max_features': 0.5000000000000001, 'n_estimators': 95}"
      ]
     },
     "execution_count": 27,
     "metadata": {},
     "output_type": "execute_result"
    }
   ],
   "source": [
    "grid_search.best_params_"
   ]
  },
  {
   "cell_type": "code",
   "execution_count": 28,
   "id": "7f8c75a0",
   "metadata": {},
   "outputs": [
    {
     "data": {
      "text/plain": [
       "0.6640871866277526"
      ]
     },
     "execution_count": 28,
     "metadata": {},
     "output_type": "execute_result"
    }
   ],
   "source": [
    "grid_search.best_score_"
   ]
  },
  {
   "cell_type": "code",
   "execution_count": 29,
   "id": "7720878a",
   "metadata": {},
   "outputs": [
    {
     "data": {
      "text/plain": [
       "RandomForestRegressor(n_estimators=95, random_state=0)"
      ]
     },
     "execution_count": 29,
     "metadata": {},
     "output_type": "execute_result"
    }
   ],
   "source": [
    "#random forest\n",
    "from sklearn.ensemble import RandomForestRegressor\n",
    "regressor_modif = RandomForestRegressor(n_estimators = 95, random_state = 0)\n",
    "regressor_modif.fit(X_train,Y_train)\n",
    "regressor_modif"
   ]
  },
  {
   "cell_type": "code",
   "execution_count": 30,
   "id": "fc7d76e9",
   "metadata": {},
   "outputs": [
    {
     "data": {
      "text/plain": [
       "array([ 0.73877043, -0.66892255,  0.33380671, ..., -1.15445674,\n",
       "       -0.73510839, -0.19858081])"
      ]
     },
     "execution_count": 30,
     "metadata": {},
     "output_type": "execute_result"
    }
   ],
   "source": [
    "y_pred = regressor_modif.predict(X_test)\n",
    "y_pred"
   ]
  },
  {
   "cell_type": "markdown",
   "id": "fdd4f34f",
   "metadata": {},
   "source": [
    "# features selection"
   ]
  },
  {
   "cell_type": "code",
   "execution_count": 31,
   "id": "c071408c",
   "metadata": {},
   "outputs": [
    {
     "data": {
      "image/png": "[encoded data removed]",
      "text/plain": [
       "<Figure size 432x288 with 1 Axes>"
      ]
     },
     "metadata": {
      "needs_background": "light"
     },
     "output_type": "display_data"
    }
   ],
   "source": [
    "from sklearn.inspection import permutation_importance\n",
    "# Choose your model\n",
    "model = LinearRegression()\n",
    "\n",
    "# Fit the model with the train set\n",
    "model.fit(X_train, Y_train)\n",
    "\n",
    "# Evaluate the model with the test set\n",
    "model.score(X_test, Y_test)\n",
    "permutation_score = permutation_importance(model, \n",
    "                                           X_test, Y_test,\n",
    "\n",
    "                                           random_state=3,\n",
    "                                           n_repeats=100) \n",
    "\n",
    "# Unstack results\n",
    "importance_df = pd.DataFrame(np.vstack((X_train.columns,\n",
    "                                        permutation_score.importances_mean)).T) \n",
    "\n",
    "importance_df.columns=['feature','feature importance']\n",
    "\n",
    "# Order by importance\n",
    "importance_df.sort_values(by=\"feature importance\", ascending = False)\n",
    "sorted_idx = permutation_score.importances_mean.argsort()\n",
    "\n",
    "fig, ax = plt.subplots() \n",
    "ax.boxplot(permutation_score.importances[sorted_idx].T, vert=False, labels=X_test.columns[sorted_idx]) \n",
    "ax.set_title(\"Permutation Importances (test set)\") \n",
    "fig.tight_layout() \n",
    "plt.show()"
   ]
  },
  {
   "cell_type": "code",
   "execution_count": 32,
   "id": "ec5924fa",
   "metadata": {},
   "outputs": [
    {
     "data": {
      "text/html": [
       "<div>\n",
       "<style scoped>\n",
       "    .dataframe tbody tr th:only-of-type {\n",
       "        vertical-align: middle;\n",
       "    }\n",
       "\n",
       "    .dataframe tbody tr th {\n",
       "        vertical-align: top;\n",
       "    }\n",
       "\n",
       "    .dataframe thead th {\n",
       "        text-align: right;\n",
       "    }\n",
       "</style>\n",
       "<table border=\"1\" class=\"dataframe\">\n",
       "  <thead>\n",
       "    <tr style=\"text-align: right;\">\n",
       "      <th></th>\n",
       "      <th>feature</th>\n",
       "      <th>feature importance</th>\n",
       "    </tr>\n",
       "  </thead>\n",
       "  <tbody>\n",
       "    <tr>\n",
       "      <th>0</th>\n",
       "      <td>housing_median_age</td>\n",
       "      <td>0.067813</td>\n",
       "    </tr>\n",
       "    <tr>\n",
       "      <th>1</th>\n",
       "      <td>total_rooms</td>\n",
       "      <td>0.400275</td>\n",
       "    </tr>\n",
       "    <tr>\n",
       "      <th>2</th>\n",
       "      <td>total_bedrooms</td>\n",
       "      <td>0.223775</td>\n",
       "    </tr>\n",
       "    <tr>\n",
       "      <th>3</th>\n",
       "      <td>population</td>\n",
       "      <td>0.13786</td>\n",
       "    </tr>\n",
       "    <tr>\n",
       "      <th>4</th>\n",
       "      <td>households</td>\n",
       "      <td>0.44569</td>\n",
       "    </tr>\n",
       "    <tr>\n",
       "      <th>5</th>\n",
       "      <td>median_income</td>\n",
       "      <td>1.301289</td>\n",
       "    </tr>\n",
       "  </tbody>\n",
       "</table>\n",
       "</div>"
      ],
      "text/plain": [
       "              feature feature importance\n",
       "0  housing_median_age           0.067813\n",
       "1         total_rooms           0.400275\n",
       "2      total_bedrooms           0.223775\n",
       "3          population            0.13786\n",
       "4          households            0.44569\n",
       "5       median_income           1.301289"
      ]
     },
     "execution_count": 32,
     "metadata": {},
     "output_type": "execute_result"
    }
   ],
   "source": [
    "importance_df"
   ]
  },
  {
   "cell_type": "markdown",
   "id": "dae7be55",
   "metadata": {},
   "source": [
    "# Tester une regression linéaire simple avec les nouveaux features"
   ]
  },
  {
   "cell_type": "code",
   "execution_count": 36,
   "id": "e5e7c68b",
   "metadata": {},
   "outputs": [],
   "source": [
    "X1_train=scaled_df[['housing_median_age','total_rooms','total_bedrooms','population','households','median_income']]\n",
    "y1_train=scaled_df['median_house_value']\n"
   ]
  },
  {
   "cell_type": "code",
   "execution_count": 37,
   "id": "94140fa2",
   "metadata": {},
   "outputs": [],
   "source": [
    "X1_test=test_scaled_df[['housing_median_age','total_rooms','total_bedrooms','population','households','median_income']]\n",
    "Y1_test=test_scaled_df['median_house_value']"
   ]
  },
  {
   "cell_type": "code",
   "execution_count": 38,
   "id": "c17fca47",
   "metadata": {},
   "outputs": [
    {
     "data": {
      "text/plain": [
       "(0.8434151661668262,)"
      ]
     },
     "execution_count": 38,
     "metadata": {},
     "output_type": "execute_result"
    }
   ],
   "source": [
    "import pickle\n",
    "my_model = pickle.load(open(\"regressor.pkl\",\"rb\"))\n",
    "\n",
    "my_model.score(X1_test, Y1_test),"
   ]
  }
 ],
 "metadata": {
  "kernelspec": {
   "display_name": "Python 3",
   "language": "python",
   "name": "python3"
  },
  "language_info": {
   "codemirror_mode": {
    "name": "ipython",
    "version": 3
   },
   "file_extension": ".py",
   "mimetype": "text/x-python",
   "name": "python",
   "nbconvert_exporter": "python",
   "pygments_lexer": "ipython3",
   "version": "3.8.8"
  }
 },
 "nbformat": 4,
 "nbformat_minor": 5
}
